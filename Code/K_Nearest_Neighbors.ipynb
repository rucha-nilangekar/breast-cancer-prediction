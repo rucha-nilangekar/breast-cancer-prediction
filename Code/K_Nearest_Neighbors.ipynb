{
 "cells": [
  {
   "cell_type": "code",
   "execution_count": 107,
   "id": "251c1d3b-05b3-440a-a79f-3e5d2cdf895c",
   "metadata": {
    "tags": []
   },
   "outputs": [],
   "source": [
    "import pandas as pd\n",
    "import matplotlib.pyplot as plt\n",
    "import seaborn as sns\n",
    "from sklearn.preprocessing import MinMaxScaler\n",
    "import numpy as np\n",
    "from sklearn.neighbors import KNeighborsClassifier\n",
    "from sklearn.model_selection import train_test_split\n",
    "from sklearn.metrics import accuracy_score, confusion_matrix, classification_report\n",
    "from sklearn.model_selection import cross_val_score\n",
    "from sklearn.tree import DecisionTreeClassifier\n",
    "import random"
   ]
  },
  {
   "cell_type": "code",
   "execution_count": 108,
   "id": "ab165b54-0aac-4526-9f5b-f9fe34c982d5",
   "metadata": {
    "tags": []
   },
   "outputs": [],
   "source": [
    "filepath2 = \"wdbc_preped_scaled.csv\"\n",
    "df_scaled = pd.read_csv(filepath2, index_col = 0)"
   ]
  },
  {
   "cell_type": "markdown",
   "id": "98bf18fc",
   "metadata": {},
   "source": [
    "K- Nearest Neighbors"
   ]
  },
  {
   "cell_type": "code",
   "execution_count": 109,
   "id": "fbbe04bc",
   "metadata": {
    "tags": []
   },
   "outputs": [],
   "source": [
    "# Set seed for the built-in 'random' module\n",
    "random.seed(1)\n",
    "\n",
    "# Set seed for NumPy\n",
    "np.random.seed(1)\n",
    "\n",
    "Y = df_scaled['Diagnosis']\n",
    "X = df_scaled[['radius_mean', 'texture_mean', 'smoothness_mean', 'compactness_mean',\n",
    "       'symmetry_mean', 'fractal_dimension_mean', 'radius_se', 'texture_se',\n",
    "       'smoothness_se', 'concave points_se', 'symmetry_se',\n",
    "       'fractal_dimension_se', 'symmetry_worst', 'fractal_dimension_worst']]\n",
    "X_train, X_test, Y_train, Y_test = train_test_split(X, Y, test_size=0.25, random_state=1)"
   ]
  },
  {
   "cell_type": "code",
   "execution_count": 113,
   "id": "e590cc01",
   "metadata": {
    "tags": []
   },
   "outputs": [
    {
     "name": "stdout",
     "output_type": "stream",
     "text": [
      "##########CT: 0.4#############\n",
      "error_min is 0.08391608391608392 for 1\n",
      "error_min is 0.06293706293706294 for 3\n",
      "error_min is 0.06293706293706294 for 5\n",
      "error_min is 0.06293706293706294 for 7\n",
      "error_min is 0.06293706293706294 for 9\n",
      "error_min is 0.06293706293706294 for 11\n",
      "error_min is 0.055944055944055944 for 13\n",
      "error_min is 0.055944055944055944 for 15\n",
      "error_min is 0.055944055944055944 for 17\n",
      "error_min is 0.055944055944055944 for 19\n",
      "error_min is 0.055944055944055944 for 21\n",
      "error_min is 0.04195804195804196 for 23\n",
      "best_k: 23\n",
      "#####################\n",
      "##########CT: 0.5#############\n",
      "error_min is 0.08391608391608392 for 1\n",
      "error_min is 0.06293706293706294 for 3\n",
      "error_min is 0.06293706293706294 for 5\n",
      "error_min is 0.055944055944055944 for 7\n",
      "error_min is 0.04195804195804196 for 9\n",
      "error_min is 0.04195804195804196 for 11\n",
      "error_min is 0.04195804195804196 for 13\n",
      "error_min is 0.04195804195804196 for 15\n",
      "error_min is 0.04195804195804196 for 17\n",
      "error_min is 0.04195804195804196 for 19\n",
      "error_min is 0.04195804195804196 for 21\n",
      "error_min is 0.04195804195804196 for 23\n",
      "best_k: 9\n",
      "#####################\n",
      "##########CT: 0.6#############\n",
      "error_min is 0.08391608391608392 for 1\n",
      "error_min is 0.06293706293706294 for 3\n",
      "error_min is 0.06293706293706294 for 5\n",
      "error_min is 0.055944055944055944 for 7\n",
      "error_min is 0.04895104895104895 for 9\n",
      "error_min is 0.04895104895104895 for 11\n",
      "error_min is 0.04895104895104895 for 13\n",
      "error_min is 0.04895104895104895 for 15\n",
      "error_min is 0.04895104895104895 for 17\n",
      "error_min is 0.04895104895104895 for 19\n",
      "error_min is 0.04895104895104895 for 21\n",
      "error_min is 0.04895104895104895 for 23\n",
      "best_k: 9\n",
      "#####################\n",
      "##########CT: 0.7#############\n",
      "error_min is 0.08391608391608392 for 1\n",
      "error_min is 0.08391608391608392 for 3\n",
      "error_min is 0.06293706293706294 for 5\n",
      "error_min is 0.055944055944055944 for 7\n",
      "error_min is 0.055944055944055944 for 9\n",
      "error_min is 0.055944055944055944 for 11\n",
      "error_min is 0.055944055944055944 for 13\n",
      "error_min is 0.055944055944055944 for 15\n",
      "error_min is 0.055944055944055944 for 17\n",
      "error_min is 0.055944055944055944 for 19\n",
      "error_min is 0.055944055944055944 for 21\n",
      "error_min is 0.055944055944055944 for 23\n",
      "best_k: 7\n",
      "#####################\n",
      "##########CT: 0.9#############\n",
      "error_min is 0.08391608391608392 for 1\n",
      "error_min is 0.08391608391608392 for 3\n",
      "error_min is 0.08391608391608392 for 5\n",
      "error_min is 0.08391608391608392 for 7\n",
      "error_min is 0.08391608391608392 for 9\n",
      "error_min is 0.08391608391608392 for 11\n",
      "error_min is 0.08391608391608392 for 13\n",
      "error_min is 0.08391608391608392 for 15\n",
      "error_min is 0.08391608391608392 for 17\n",
      "error_min is 0.08391608391608392 for 19\n",
      "error_min is 0.08391608391608392 for 21\n",
      "error_min is 0.08391608391608392 for 23\n",
      "best_k: 1\n",
      "#####################\n",
      "KNN RESULTS:\n"
     ]
    },
    {
     "data": {
      "text/html": [
       "<div>\n",
       "<style scoped>\n",
       "    .dataframe tbody tr th:only-of-type {\n",
       "        vertical-align: middle;\n",
       "    }\n",
       "\n",
       "    .dataframe tbody tr th {\n",
       "        vertical-align: top;\n",
       "    }\n",
       "\n",
       "    .dataframe thead th {\n",
       "        text-align: right;\n",
       "    }\n",
       "</style>\n",
       "<table border=\"1\" class=\"dataframe\">\n",
       "  <thead>\n",
       "    <tr style=\"text-align: right;\">\n",
       "      <th></th>\n",
       "      <th>Best_k</th>\n",
       "      <th>Best_Accuracy</th>\n",
       "      <th>Best_Sensitivity</th>\n",
       "      <th>Best_Specificity</th>\n",
       "      <th>least_error</th>\n",
       "    </tr>\n",
       "  </thead>\n",
       "  <tbody>\n",
       "    <tr>\n",
       "      <th>0.4</th>\n",
       "      <td>23</td>\n",
       "      <td>0.958042</td>\n",
       "      <td>0.909091</td>\n",
       "      <td>0.988636</td>\n",
       "      <td>0.041958</td>\n",
       "    </tr>\n",
       "    <tr>\n",
       "      <th>0.5</th>\n",
       "      <td>9</td>\n",
       "      <td>0.958042</td>\n",
       "      <td>0.890909</td>\n",
       "      <td>1.0</td>\n",
       "      <td>0.041958</td>\n",
       "    </tr>\n",
       "    <tr>\n",
       "      <th>0.6</th>\n",
       "      <td>9</td>\n",
       "      <td>0.951049</td>\n",
       "      <td>0.872727</td>\n",
       "      <td>1.0</td>\n",
       "      <td>0.048951</td>\n",
       "    </tr>\n",
       "    <tr>\n",
       "      <th>0.7</th>\n",
       "      <td>7</td>\n",
       "      <td>0.944056</td>\n",
       "      <td>0.854545</td>\n",
       "      <td>1.0</td>\n",
       "      <td>0.055944</td>\n",
       "    </tr>\n",
       "    <tr>\n",
       "      <th>0.9</th>\n",
       "      <td>1</td>\n",
       "      <td>0.916084</td>\n",
       "      <td>0.909091</td>\n",
       "      <td>0.920455</td>\n",
       "      <td>0.083916</td>\n",
       "    </tr>\n",
       "  </tbody>\n",
       "</table>\n",
       "</div>"
      ],
      "text/plain": [
       "    Best_k Best_Accuracy Best_Sensitivity Best_Specificity  least_error\n",
       "0.4     23      0.958042         0.909091         0.988636     0.041958\n",
       "0.5      9      0.958042         0.890909              1.0     0.041958\n",
       "0.6      9      0.951049         0.872727              1.0     0.048951\n",
       "0.7      7      0.944056         0.854545              1.0     0.055944\n",
       "0.9      1      0.916084         0.909091         0.920455     0.083916"
      ]
     },
     "execution_count": 113,
     "metadata": {},
     "output_type": "execute_result"
    }
   ],
   "source": [
    "##############################KNN#########################################\n",
    "#Find best k for each ct\n",
    " \n",
    "cts = [0.4,0.5,0.6, 0.7,0.9]\n",
    "result_df = pd.DataFrame(columns=['Best_k','Best_Accuracy','Best_Sensitivity', 'Best_Specificity'], index=cts)\n",
    "max_k= round(np.sqrt(df_scaled.shape[0]))\n",
    "    \n",
    "for ct in cts:\n",
    "    print(f'##########CT: {ct}#############')\n",
    "    best_k = 0\n",
    "    best_accuracy = 0\n",
    "    best_ct = 0\n",
    "    best_spec = 0\n",
    "    best_sen = 0\n",
    "    error_min = 10000\n",
    "    for k in range(1, max_k, 2):  # iterate through different values of k\n",
    "        # print(f'for k value {k}')\n",
    "        knn = KNeighborsClassifier(n_neighbors=k)\n",
    "        knn.fit(X_train,Y_train)\n",
    "        ypred_knn_prob = knn.predict_proba(X_test)\n",
    "        \n",
    "        ypred_knn = []\n",
    "        for i in range(0, len(ypred_knn_prob)):\n",
    "            if ypred_knn_prob[i][1] > ct:\n",
    "                result = 1\n",
    "            else:\n",
    "                result = 0\n",
    "            ypred_knn.append(result)\n",
    "            \n",
    "        accuracy = accuracy_score(Y_test, ypred_knn)\n",
    "        conf_matrix = confusion_matrix(Y_test, ypred_knn)\n",
    "        \n",
    "        TN = conf_matrix[0, 0]\n",
    "        FP = conf_matrix[0, 1]\n",
    "        FN = conf_matrix[1, 0]\n",
    "        TP = conf_matrix[1, 1]\n",
    "\n",
    "        sensitivity = TP / (TP + FN)\n",
    "        specificity = TN / (TN + FP)\n",
    "        tpr = TP / (TP + FN)\n",
    "        fpr = FP / (FP + TN)\n",
    "        error = (FP + FN) / (TP + TN + FP + FN)\n",
    "\n",
    "        if error < error_min:\n",
    "            error_min = error\n",
    "            \n",
    "            best_accuracy = accuracy\n",
    "            best_k = k\n",
    "            # best_ct= ct\n",
    "            best_spec = specificity\n",
    "            best_sen = sensitivity\n",
    "        print(f'error_min is {error_min} for {k}')\n",
    "        \n",
    "        # print(f'accuracy: {accuracy}')\n",
    "        # print(f'confusion matrix: {conf_matrix}')\n",
    "        #print(f'sensitivity: {sensitivity}')\n",
    "        #print(f'specificity: {specificity}')\n",
    "        # print(f'misclassification error: {error}')\n",
    "        #print(\"\")\n",
    "    print(f'best_k: {best_k}')\n",
    "    print(\"#####################\")    \n",
    "    result_df.loc[ct, 'Best_k'] = best_k\n",
    "    result_df.loc[ct, 'least_error'] = error_min\n",
    "    result_df.loc[ct, 'Best_Sensitivity'] = best_sen\n",
    "    result_df.loc[ct, 'Best_Specificity'] = best_spec \n",
    "    result_df.loc[ct, 'Best_Accuracy'] = best_accuracy\n",
    "\n",
    "print(\"KNN RESULTS:\")\n",
    "result_df\n",
    "    \n",
    "    #print(f'Best_k: {best_k}')\n",
    "    #print(f'Best_accuracy: {best_accuracy}')\n",
    "    #print(f'Best_specificity: {best_spec}')\n",
    "    #print(f'Best_sensitivity: {best_sen}')\n",
    "    #print(\"\")\n"
   ]
  },
  {
   "cell_type": "code",
   "execution_count": 105,
   "id": "3d49dbb1-0f76-4b53-8afc-0d8486099f9d",
   "metadata": {},
   "outputs": [],
   "source": [
    "df = pd.DataFrame(ypred_knn_prob)"
   ]
  },
  {
   "cell_type": "code",
   "execution_count": 101,
   "id": "947790ec-5b2a-40a6-9de1-e41b6edb7355",
   "metadata": {
    "tags": []
   },
   "outputs": [
    {
     "data": {
      "text/plain": [
       "12"
      ]
     },
     "execution_count": 101,
     "metadata": {},
     "output_type": "execute_result"
    }
   ],
   "source": [
    "np.sum((df.iloc[:,1] < 0.4) & (df.iloc[:,1] > 0.3))"
   ]
  },
  {
   "cell_type": "code",
   "execution_count": 102,
   "id": "3983d250-ddfd-4f5b-8560-0960ba7ab9f6",
   "metadata": {
    "tags": []
   },
   "outputs": [
    {
     "data": {
      "text/plain": [
       "array([[<Axes: title={'center': '0'}>, <Axes: title={'center': '1'}>]],\n",
       "      dtype=object)"
      ]
     },
     "execution_count": 102,
     "metadata": {},
     "output_type": "execute_result"
    },
    {
     "data": {
      "image/png": "[encoded data removed]",
      "text/plain": [
       "<Figure size 640x480 with 2 Axes>"
      ]
     },
     "metadata": {},
     "output_type": "display_data"
    }
   ],
   "source": [
    "df.hist()"
   ]
  },
  {
   "cell_type": "code",
   "execution_count": 8,
   "id": "ccdd418a-e81a-4dfc-aebc-371fdf6c7e7e",
   "metadata": {
    "tags": []
   },
   "outputs": [
    {
     "data": {
      "text/plain": [
       "(114, 2)"
      ]
     },
     "execution_count": 8,
     "metadata": {},
     "output_type": "execute_result"
    }
   ],
   "source": [
    "df.shape"
   ]
  },
  {
   "cell_type": "code",
   "execution_count": null,
   "id": "9283c5f8-fed0-4e06-947c-32f6bbee2cf9",
   "metadata": {},
   "outputs": [],
   "source": []
  }
 ],
 "metadata": {
  "kernelspec": {
   "display_name": "Python 3 (ipykernel)",
   "language": "python",
   "name": "python3"
  },
  "language_info": {
   "codemirror_mode": {
    "name": "ipython",
    "version": 3
   },
   "file_extension": ".py",
   "mimetype": "text/x-python",
   "name": "python",
   "nbconvert_exporter": "python",
   "pygments_lexer": "ipython3",
   "version": "3.11.4"
  }
 },
 "nbformat": 4,
 "nbformat_minor": 5
}
